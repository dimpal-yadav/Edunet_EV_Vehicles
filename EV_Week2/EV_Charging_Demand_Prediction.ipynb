{
 "cells": [
  {
   "cell_type": "markdown",
   "id": "d663e498",
   "metadata": {},
   "source": [
    "# 🔋 EV Charging Demand Prediction using ML\n",
    "This notebook trains a machine learning model to predict EV charging demand."
   ]
  },
  {
   "cell_type": "code",
   "execution_count": null,
   "id": "87297c13",
   "metadata": {},
   "outputs": [],
   "source": [
    "# 📌 Step 1: Import Libraries\n",
    "import pandas as pd\n",
    "import numpy as np\n",
    "import matplotlib.pyplot as plt\n",
    "import seaborn as sns\n",
    "\n",
    "from sklearn.model_selection import train_test_split\n",
    "from sklearn.linear_model import LinearRegression\n",
    "from sklearn.ensemble import RandomForestRegressor\n",
    "from sklearn.metrics import mean_absolute_error, mean_squared_error, r2_score\n"
   ]
  },
  {
   "cell_type": "code",
   "execution_count": null,
   "id": "1c4748d6",
   "metadata": {},
   "outputs": [],
   "source": [
    "# 📌 Step 2: Load Dataset\n",
    "df = pd.read_csv(\"3ae033f50fa345051652 (1).csv\")\n",
    "df.head()\n"
   ]
  },
  {
   "cell_type": "code",
   "execution_count": null,
   "id": "73593a6e",
   "metadata": {},
   "outputs": [],
   "source": [
    "# 📌 Step 3: Basic Info\n",
    "print(df.info())\n",
    "print(df.describe())\n",
    "print(df.isnull().sum())\n"
   ]
  },
  {
   "cell_type": "code",
   "execution_count": null,
   "id": "42141bcc",
   "metadata": {},
   "outputs": [],
   "source": [
    "# 📌 Step 4: Handle Missing/Convert Dates\n",
    "for col in df.columns:\n",
    "    if \"date\" in col.lower() or \"time\" in col.lower():\n",
    "        df[col] = pd.to_datetime(df[col])\n"
   ]
  },
  {
   "cell_type": "code",
   "execution_count": null,
   "id": "0123fdbf",
   "metadata": {},
   "outputs": [],
   "source": [
    "# 📌 Step 5: Visualize Data\n",
    "plt.figure(figsize=(10,6))\n",
    "sns.heatmap(df.corr(), annot=True, cmap='coolwarm')\n",
    "plt.title(\"Correlation Matrix\")\n",
    "plt.show()\n"
   ]
  },
  {
   "cell_type": "code",
   "execution_count": null,
   "id": "91fd357f",
   "metadata": {},
   "outputs": [],
   "source": [
    "# 📌 Step 6: Feature Engineering (Optional)\n",
    "if 'Timestamp' in df.columns:\n",
    "    df['Hour'] = df['Timestamp'].dt.hour\n",
    "    df['Day'] = df['Timestamp'].dt.dayofweek\n"
   ]
  },
  {
   "cell_type": "code",
   "execution_count": null,
   "id": "5e3f3b26",
   "metadata": {},
   "outputs": [],
   "source": [
    "# 📌 Step 7: Define X and y\n",
    "target_col = 'Demand'  # ← Replace with your actual target column\n",
    "X = df.drop(columns=[target_col])\n",
    "y = df[target_col]\n",
    "\n",
    "# Handle categorical columns (if any)\n",
    "X = pd.get_dummies(X, drop_first=True)\n"
   ]
  },
  {
   "cell_type": "code",
   "execution_count": null,
   "id": "ad5cff9f",
   "metadata": {},
   "outputs": [],
   "source": [
    "# 📌 Step 8: Train-Test Split\n",
    "X_train, X_test, y_train, y_test = train_test_split(X, y, test_size=0.2, random_state=42)\n"
   ]
  },
  {
   "cell_type": "code",
   "execution_count": null,
   "id": "dd78bcfd",
   "metadata": {},
   "outputs": [],
   "source": [
    "# 📌 Step 9: Model Training\n",
    "model = RandomForestRegressor(n_estimators=100, random_state=42)\n",
    "model.fit(X_train, y_train)\n"
   ]
  },
  {
   "cell_type": "code",
   "execution_count": null,
   "id": "0dbec89c",
   "metadata": {},
   "outputs": [],
   "source": [
    "# 📌 Step 10: Predictions\n",
    "y_pred = model.predict(X_test)\n"
   ]
  },
  {
   "cell_type": "code",
   "execution_count": null,
   "id": "ea839be6",
   "metadata": {},
   "outputs": [],
   "source": [
    "# 📌 Step 11: Evaluation\n",
    "print(\"MAE:\", mean_absolute_error(y_test, y_pred))\n",
    "print(\"MSE:\", mean_squared_error(y_test, y_pred))\n",
    "print(\"RMSE:\", np.sqrt(mean_squared_error(y_test, y_pred)))\n",
    "print(\"R² Score:\", r2_score(y_test, y_pred))\n"
   ]
  },
  {
   "cell_type": "code",
   "execution_count": null,
   "id": "b2f25266",
   "metadata": {},
   "outputs": [],
   "source": [
    "# 📌 Step 12: Plot Predictions\n",
    "plt.figure(figsize=(8,5))\n",
    "plt.scatter(y_test, y_pred, color='teal')\n",
    "plt.xlabel(\"Actual Demand\")\n",
    "plt.ylabel(\"Predicted Demand\")\n",
    "plt.title(\"Actual vs Predicted\")\n",
    "plt.grid(True)\n",
    "plt.show()\n"
   ]
  }
 ],
 "metadata": {},
 "nbformat": 4,
 "nbformat_minor": 5
}
